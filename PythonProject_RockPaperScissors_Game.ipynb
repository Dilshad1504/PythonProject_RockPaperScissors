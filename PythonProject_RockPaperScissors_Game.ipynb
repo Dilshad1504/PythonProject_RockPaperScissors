{
  "nbformat": 4,
  "nbformat_minor": 0,
  "metadata": {
    "colab": {
      "provenance": []
    },
    "kernelspec": {
      "name": "python3",
      "display_name": "Python 3"
    },
    "language_info": {
      "name": "python"
    }
  },
  "cells": [
    {
      "cell_type": "code",
      "execution_count": 6,
      "metadata": {
        "colab": {
          "base_uri": "https://localhost:8080/"
        },
        "id": "1CHiL9Y-p5A-",
        "outputId": "22acad19-965e-4f07-8d0c-fb3b273cdd8d"
      },
      "outputs": [
        {
          "output_type": "stream",
          "name": "stdout",
          "text": [
            "Enter your choice (rock, paper, scissors): rock\n",
            "You chose: rock\n",
            "Computer chose: paper\n",
            "You lose!\n"
          ]
        }
      ],
      "source": [
        "import random\n",
        "\n",
        "def determine_winner(user_choice, computer_choice):\n",
        "    if user_choice == computer_choice:\n",
        "        return \"It's a tie!\"\n",
        "    elif (user_choice == \"rock\" and computer_choice == \"scissors\") or \\\n",
        "         (user_choice == \"scissors\" and computer_choice == \"paper\") or \\\n",
        "         (user_choice == \"paper\" and computer_choice == \"rock\"):\n",
        "        return \"You win!\"\n",
        "    else:\n",
        "        return \"You lose!\"\n",
        "\n",
        "def play_game():\n",
        "    choices = [\"rock\", \"paper\", \"scissors\"]\n",
        "\n",
        "    # User input\n",
        "    user_choice = input(\"Enter your choice (rock, paper, scissors): \").lower()\n",
        "    while user_choice not in choices:\n",
        "        print(\"Invalid choice. Please try again.\")\n",
        "        user_choice = input(\"Enter your choice (rock, paper, scissors): \").lower()\n",
        "\n",
        "    # Computer's random choice\n",
        "    computer_choice = random.choice(choices)\n",
        "\n",
        "    # Determine the winner\n",
        "    result = determine_winner(user_choice, computer_choice)\n",
        "\n",
        "    # Display results\n",
        "    print(f\"You chose: {user_choice}\")\n",
        "    print(f\"Computer chose: {computer_choice}\")\n",
        "    print(result)\n",
        "\n",
        "# Run the game\n",
        "play_game()"
      ]
    }
  ]
}